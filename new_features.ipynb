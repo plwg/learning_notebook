{
 "cells": [
  {
   "cell_type": "markdown",
   "metadata": {},
   "source": [
    "#### 3.11\n",
    "\n",
    "https://docs.python.org/3.11/whatsnew/3.11.html\n",
    "*************"
   ]
  },
  {
   "cell_type": "markdown",
   "metadata": {},
   "source": [
    "Built-in TOML parser module"
   ]
  },
  {
   "cell_type": "code",
   "execution_count": null,
   "metadata": {},
   "outputs": [],
   "source": [
    "import tomllib\n",
    "\n",
    "with open(\"pyproject.toml\", \"rb\") as f:\n",
    "    data = tomllib.load(f)\n",
    "\n",
    "data"
   ]
  },
  {
   "cell_type": "markdown",
   "metadata": {},
   "source": [
    "Starred unpacking expressions can now be used in for statements."
   ]
  },
  {
   "cell_type": "code",
   "execution_count": null,
   "metadata": {},
   "outputs": [],
   "source": [
    "a = (1, 2, 3)\n",
    "b = (4, 5, 6)\n",
    "\n",
    "for x in *a, *b:\n",
    "    print(x, end=\" \")"
   ]
  },
  {
   "cell_type": "markdown",
   "metadata": {},
   "source": [
    "#### 3.10\n",
    "\n",
    "https://docs.python.org/3.10/whatsnew/3.10.html\n",
    "**************"
   ]
  },
  {
   "cell_type": "markdown",
   "metadata": {},
   "source": [
    "Structural Pattern Matching\n",
    "\n",
    "https://peps.python.org/pep-0636/"
   ]
  },
  {
   "cell_type": "code",
   "execution_count": null,
   "metadata": {},
   "outputs": [],
   "source": [
    "# TODO Add code example"
   ]
  },
  {
   "cell_type": "markdown",
   "metadata": {},
   "source": [
    "`int.bit_count()` method for returning number of 1s in binary representation"
   ]
  },
  {
   "cell_type": "code",
   "execution_count": null,
   "metadata": {},
   "outputs": [],
   "source": [
    "foo = 8\n",
    "foo.bit_count(), foo.bit_length()"
   ]
  },
  {
   "cell_type": "markdown",
   "metadata": {},
   "source": [
    "`itertool.pairwise` return successive overlapping pairs taken from the input iterable."
   ]
  },
  {
   "cell_type": "code",
   "execution_count": null,
   "metadata": {},
   "outputs": [],
   "source": [
    "from itertools import pairwise\n",
    "\n",
    "foo = range(6)\n",
    "\n",
    "for x in pairwise(foo):\n",
    "    print(x, end=\" \")"
   ]
  },
  {
   "cell_type": "markdown",
   "metadata": {},
   "source": [
    "#### 3.9\n",
    "\n",
    "https://docs.python.org/3.9/whatsnew/3.9.html\n",
    "**************"
   ]
  },
  {
   "cell_type": "markdown",
   "metadata": {},
   "source": [
    "`|` for union dictionary\n",
    "\n",
    "https://peps.python.org/pep-0584/"
   ]
  },
  {
   "cell_type": "code",
   "execution_count": null,
   "metadata": {},
   "outputs": [],
   "source": [
    "d = {\"spam\": 1, \"eggs\": 2, \"cheese\": 3}\n",
    "e = {\"cheese\": \"cheddar\", \"aardvark\": \"Ethel\"}\n",
    "\n",
    "# return a new dictionary\n",
    "d | e"
   ]
  },
  {
   "cell_type": "code",
   "execution_count": null,
   "metadata": {},
   "outputs": [],
   "source": [
    "# augmented assignment\n",
    "d |= e\n",
    "d"
   ]
  },
  {
   "cell_type": "markdown",
   "metadata": {},
   "source": [
    "`str.removeprefix` and `str.removesuffix`"
   ]
  },
  {
   "cell_type": "code",
   "execution_count": null,
   "metadata": {},
   "outputs": [],
   "source": [
    "name = \"James Bond\"\n",
    "name.removeprefix(\"Ja\"), name.removesuffix(\"nd\")"
   ]
  },
  {
   "cell_type": "markdown",
   "metadata": {},
   "source": [
    "\n",
    "topological sort in graphlib"
   ]
  },
  {
   "cell_type": "code",
   "execution_count": null,
   "metadata": {},
   "outputs": [],
   "source": [
    "from graphlib import TopologicalSorter\n",
    "\n",
    "# D depends on B and C\n",
    "# C depends on A\n",
    "# B depends on A\n",
    "\n",
    "# How should we perform the task\n",
    "graph = {\"D\": {\"B\", \"C\"}, \"C\": {\"A\"}, \"B\": {\"A\"}}\n",
    "ts = TopologicalSorter(graph)\n",
    "tuple(ts.static_order())"
   ]
  },
  {
   "cell_type": "markdown",
   "metadata": {},
   "source": [
    "`lcm` and `gcd` in `math`"
   ]
  },
  {
   "cell_type": "code",
   "execution_count": null,
   "metadata": {},
   "outputs": [],
   "source": [
    "# https://en.wikipedia.org/wiki/Lehmer%27s_GCD_algorithm\n",
    "\n",
    "from math import gcd, lcm\n",
    "\n",
    "gcd(40, 43), lcm(40, 43)  #### 3.9"
   ]
  },
  {
   "cell_type": "markdown",
   "metadata": {},
   "source": [
    "#### 3.8\n",
    "\n",
    "https://docs.python.org/3.8/whatsnew/3.8.html\n",
    "**************"
   ]
  },
  {
   "cell_type": "markdown",
   "metadata": {},
   "source": [
    "Walrus operator (assignment expression)"
   ]
  },
  {
   "cell_type": "markdown",
   "metadata": {},
   "source": [
    "position-only arugment"
   ]
  },
  {
   "cell_type": "markdown",
   "metadata": {},
   "source": [
    "f-strings support = for self-documenting expressions and debugging"
   ]
  },
  {
   "cell_type": "markdown",
   "metadata": {},
   "source": [
    "The _asdict() method for collections.namedtuple() now returns a dict instead of a collections.OrderedDict."
   ]
  },
  {
   "cell_type": "markdown",
   "metadata": {},
   "source": [
    "math.dist()"
   ]
  },
  {
   "cell_type": "markdown",
   "metadata": {},
   "source": [
    "\n",
    "math.prod()"
   ]
  },
  {
   "cell_type": "markdown",
   "metadata": {},
   "source": [
    "math.isqrt()"
   ]
  },
  {
   "cell_type": "markdown",
   "metadata": {},
   "source": [
    "#### 3.7\n",
    "\n",
    "https://docs.python.org/3.7/whatsnew/3.7.html\n",
    "**************"
   ]
  },
  {
   "cell_type": "markdown",
   "metadata": {},
   "source": [
    "PEP 553, the new `breakpoint()` function."
   ]
  },
  {
   "cell_type": "markdown",
   "metadata": {},
   "source": [
    "collections.namedtuple() now supports default values. (Contributed by Raymond Hettinger in bpo-32320.)"
   ]
  },
  {
   "cell_type": "markdown",
   "metadata": {},
   "source": [
    "`crypt`"
   ]
  },
  {
   "cell_type": "markdown",
   "metadata": {},
   "source": [
    "math.remainder()"
   ]
  },
  {
   "cell_type": "markdown",
   "metadata": {},
   "source": [
    "time.perf_counter_ns()"
   ]
  },
  {
   "cell_type": "code",
   "execution_count": null,
   "metadata": {},
   "outputs": [],
   "source": [
    "# TODO <=3.6"
   ]
  }
 ],
 "metadata": {
  "kernelspec": {
   "display_name": ".venv",
   "language": "python",
   "name": "python3"
  },
  "language_info": {
   "codemirror_mode": {
    "name": "ipython",
    "version": 3
   },
   "file_extension": ".py",
   "mimetype": "text/x-python",
   "name": "python",
   "nbconvert_exporter": "python",
   "pygments_lexer": "ipython3",
   "version": "3.12.2"
  }
 },
 "nbformat": 4,
 "nbformat_minor": 2
}
